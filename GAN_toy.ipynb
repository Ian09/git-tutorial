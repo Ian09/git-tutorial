{
 "cells": [
  {
   "cell_type": "code",
   "execution_count": 1,
   "metadata": {
    "collapsed": false
   },
   "outputs": [
    {
     "name": "stderr",
     "output_type": "stream",
     "text": [
      "/Users/yin.zheng/Library/Enthought/Canopy_64bit/User/lib/python2.7/site-packages/IPython/utils/traitlets.py:5: UserWarning: IPython.utils.traitlets has moved to a top-level traitlets package.\n",
      "  warn(\"IPython.utils.traitlets has moved to a top-level traitlets package.\")\n",
      "/Users/yin.zheng/Library/Enthought/Canopy_64bit/User/lib/python2.7/site-packages/IPython/kernel/__init__.py:13: ShimWarning: The `IPython.kernel` package has been deprecated. You should import from ipykernel or jupyter_client instead.\n",
      "  \"You should import from ipykernel or jupyter_client instead.\", ShimWarning)\n"
     ]
    }
   ],
   "source": [
    "import tensorflow as tf\n",
    "import numpy as np\n",
    "import matplotlib.pyplot as plt\n",
    "import seaborn as sns # for pretty plots\n",
    "from scipy.stats import norm\n",
    "%matplotlib inline"
   ]
  },
  {
   "cell_type": "code",
   "execution_count": 2,
   "metadata": {
    "collapsed": false
   },
   "outputs": [
    {
     "data": {
      "text/plain": [
       "[<matplotlib.lines.Line2D at 0x119b22150>]"
      ]
     },
     "execution_count": 2,
     "metadata": {},
     "output_type": "execute_result"
    },
    {
     "data": {
      "image/png": "[encoded data removed]",
      "text/plain": [
       "<matplotlib.figure.Figure at 0x119882350>"
      ]
     },
     "metadata": {},
     "output_type": "display_data"
    }
   ],
   "source": [
    "mu,sigma=-1,1\n",
    "xs=np.linspace(-5,5,1000)\n",
    "plt.plot(xs, norm.pdf(xs,loc=mu,scale=sigma))"
   ]
  },
  {
   "cell_type": "code",
   "execution_count": 3,
   "metadata": {
    "collapsed": true
   },
   "outputs": [],
   "source": [
    "TRAIN_ITERS=10000\n",
    "M=200 # minibatch size"
   ]
  },
  {
   "cell_type": "code",
   "execution_count": 4,
   "metadata": {
    "collapsed": true
   },
   "outputs": [],
   "source": [
    "# MLP - used for D_pre, D1, D2, G networks\n",
    "def mlp(input, output_dim):\n",
    "    # construct learnable parameters within local scope\n",
    "    w1=tf.get_variable(\"w0\", [input.get_shape()[1], 6], initializer=tf.random_normal_initializer())\n",
    "    b1=tf.get_variable(\"b0\", [6], initializer=tf.constant_initializer(0.0))\n",
    "    w2=tf.get_variable(\"w1\", [6, 5], initializer=tf.random_normal_initializer())\n",
    "    b2=tf.get_variable(\"b1\", [5], initializer=tf.constant_initializer(0.0))\n",
    "    w3=tf.get_variable(\"w2\", [5,output_dim], initializer=tf.random_normal_initializer())\n",
    "    b3=tf.get_variable(\"b2\", [output_dim], initializer=tf.constant_initializer(0.0))\n",
    "    # nn operators\n",
    "    fc1=tf.nn.tanh(tf.matmul(input,w1)+b1)\n",
    "    fc2=tf.nn.tanh(tf.matmul(fc1,w2)+b2)\n",
    "    fc3=tf.nn.tanh(tf.matmul(fc2,w3)+b3)\n",
    "    return fc3, [w1,b1,w2,b2,w3,b3]"
   ]
  },
  {
   "cell_type": "code",
   "execution_count": 5,
   "metadata": {
    "collapsed": true
   },
   "outputs": [],
   "source": [
    "# re-used for optimizing all networks\n",
    "def momentum_optimizer(loss,var_list):\n",
    "    batch = tf.Variable(0)\n",
    "    learning_rate = tf.train.exponential_decay(\n",
    "        0.001,                # Base learning rate.\n",
    "        batch,  # Current index into the dataset.\n",
    "        TRAIN_ITERS // 4,          # Decay step - this decays 4 times throughout training process.\n",
    "        0.95,                # Decay rate.\n",
    "        staircase=True)\n",
    "    #optimizer=tf.train.GradientDescentOptimizer(learning_rate).minimize(loss,global_step=batch,var_list=var_list)\n",
    "    optimizer=tf.train.MomentumOptimizer(learning_rate,0.6).minimize(loss,global_step=batch,var_list=var_list)\n",
    "    return optimizer\n"
   ]
  },
  {
   "cell_type": "code",
   "execution_count": 6,
   "metadata": {
    "collapsed": true
   },
   "outputs": [],
   "source": [
    "# with tf.variable_scope(\"D_pre\"):\n",
    "#     input_node=tf.placeholder(tf.float32, shape=(M,1))\n",
    "#     train_labels=tf.placeholder(tf.float32,shape=(M,1))\n",
    "#     D,theta=mlp(input_node,1)\n",
    "#     loss=tf.reduce_mean(tf.square(D-train_labels))"
   ]
  },
  {
   "cell_type": "code",
   "execution_count": 7,
   "metadata": {
    "collapsed": true
   },
   "outputs": [],
   "source": [
    "# optimizer=momentum_optimizer(loss,None)"
   ]
  },
  {
   "cell_type": "code",
   "execution_count": 8,
   "metadata": {
    "collapsed": true
   },
   "outputs": [],
   "source": [
    "# sess=tf.InteractiveSession()\n",
    "# tf.initialize_all_variables().run()"
   ]
  },
  {
   "cell_type": "code",
   "execution_count": 9,
   "metadata": {
    "collapsed": true
   },
   "outputs": [],
   "source": [
    "# plot decision surface\n",
    "# def plot_d0(D,input_node):\n",
    "#     f,ax=plt.subplots(1)\n",
    "#     # p_data\n",
    "#     xs=np.linspace(-5,5,1000)\n",
    "#     ax.plot(xs, norm.pdf(xs,loc=mu,scale=sigma), label='p_data')\n",
    "#     # decision boundary\n",
    "#     r=1000 # resolution (number of points)\n",
    "#     xs=np.linspace(-5,5,r)\n",
    "#     ds=np.zeros((r,1)) # decision surface\n",
    "#     # process multiple points in parallel in a minibatch\n",
    "#     for i in range(r/M):\n",
    "#         x=np.reshape(xs[M*i:M*(i+1)],(M,1))\n",
    "#         ds[M*i:M*(i+1)]=sess.run(D,{input_node: x})\n",
    "\n",
    "#     ax.plot(xs, ds, label='decision boundary')\n",
    "#     ax.set_ylim(-0.5,1.1)\n",
    "#     plt.legend()"
   ]
  },
  {
   "cell_type": "code",
   "execution_count": 10,
   "metadata": {
    "collapsed": false
   },
   "outputs": [],
   "source": [
    "# plot_d0(D,input_node)\n",
    "# plt.title('Initial Decision Boundary')"
   ]
  },
  {
   "cell_type": "code",
   "execution_count": 11,
   "metadata": {
    "collapsed": false
   },
   "outputs": [],
   "source": [
    "# input_node\n",
    "# theta[0].get_shape()"
   ]
  },
  {
   "cell_type": "code",
   "execution_count": 12,
   "metadata": {
    "collapsed": true
   },
   "outputs": [],
   "source": [
    "# lh=np.zeros(1000)\n",
    "# for i in range(1000):\n",
    "#     #d=np.random.normal(mu,sigma,M)\n",
    "#     d=(np.random.random(M)-0.5) * 10.0 # instead of sampling only from gaussian, want the domain to be covered as uniformly as possible\n",
    "#     labels=norm.pdf(d,loc=mu,scale=sigma)\n",
    "#     lh[i],_=sess.run([loss,optimizer], {input_node: np.reshape(d,(M,1)), train_labels: np.reshape(labels,(M,1))})"
   ]
  },
  {
   "cell_type": "code",
   "execution_count": 13,
   "metadata": {
    "collapsed": false
   },
   "outputs": [],
   "source": [
    "# plt.plot(lh)\n",
    "# plt.title('Training Loss')\n"
   ]
  },
  {
   "cell_type": "code",
   "execution_count": 14,
   "metadata": {
    "collapsed": false
   },
   "outputs": [],
   "source": [
    "# plot_d0(D,input_node)"
   ]
  },
  {
   "cell_type": "code",
   "execution_count": 15,
   "metadata": {
    "collapsed": false
   },
   "outputs": [],
   "source": [
    "# weightsD=sess.run(theta)"
   ]
  },
  {
   "cell_type": "code",
   "execution_count": 16,
   "metadata": {
    "collapsed": true
   },
   "outputs": [],
   "source": [
    "# sess.close()"
   ]
  },
  {
   "cell_type": "code",
   "execution_count": 17,
   "metadata": {
    "collapsed": false
   },
   "outputs": [],
   "source": [
    "with tf.variable_scope(\"G\"):\n",
    "    z_node=tf.placeholder(tf.float32, shape=(M,1)) # M uniform01 floats\n",
    "    G,theta_g=mlp(z_node,1) # generate normal transformation of Z\n",
    "    G=tf.mul(5.0,G) # scale up by 5 to match range\n",
    "with tf.variable_scope(\"D\") as scope:\n",
    "    # D(x)\n",
    "    x_node=tf.placeholder(tf.float32, shape=(M,1)) # input M normally distributed floats\n",
    "    fc,theta_d=mlp(x_node,1) # output likelihood of being normally distributed\n",
    "    D1=tf.maximum(tf.minimum(fc,.99), 0.01) # clamp as a probability\n",
    "    # make a copy of D that uses the same variables, but takes in G as input\n",
    "    scope.reuse_variables()\n",
    "    fc,theta_d=mlp(G,1)\n",
    "    D2=tf.maximum(tf.minimum(fc,.99), 0.01)\n",
    "obj_d=tf.reduce_mean(tf.log(D1)+tf.log(1-D2))\n",
    "obj_g=tf.reduce_mean(tf.log(D2))\n",
    "\n",
    "# set up optimizer for G,D\n",
    "opt_d=momentum_optimizer(1-obj_d, theta_d)\n",
    "opt_g=momentum_optimizer(1-obj_g, theta_g) # maximize log(D(G(z)))"
   ]
  },
  {
   "cell_type": "code",
   "execution_count": 18,
   "metadata": {
    "collapsed": true
   },
   "outputs": [],
   "source": [
    "sess=tf.InteractiveSession()\n",
    "tf.initialize_all_variables().run()"
   ]
  },
  {
   "cell_type": "code",
   "execution_count": 19,
   "metadata": {
    "collapsed": true
   },
   "outputs": [],
   "source": [
    "def plot_fig():\n",
    "    # plots pg, pdata, decision boundary \n",
    "    f,ax=plt.subplots(1)\n",
    "    # p_data\n",
    "    xs=np.linspace(-5,5,1000)\n",
    "    ax.plot(xs, norm.pdf(xs,loc=mu,scale=sigma), label='p_data')\n",
    "\n",
    "    # decision boundary\n",
    "    r=5000 # resolution (number of points)\n",
    "    xs=np.linspace(-5,5,r)\n",
    "    ds=np.zeros((r,1)) # decision surface\n",
    "    # process multiple points in parallel in same minibatch\n",
    "    for i in range(r/M):\n",
    "        x=np.reshape(xs[M*i:M*(i+1)],(M,1))\n",
    "        ds[M*i:M*(i+1)]=sess.run(D1,{x_node: x})\n",
    "\n",
    "    ax.plot(xs, ds, label='decision boundary')\n",
    "\n",
    "    # distribution of inverse-mapped points\n",
    "    zs=np.linspace(-5,5,r)\n",
    "    gs=np.zeros((r,1)) # generator function\n",
    "    for i in range(r/M):\n",
    "        z=np.reshape(zs[M*i:M*(i+1)],(M,1))\n",
    "        gs[M*i:M*(i+1)]=sess.run(G,{z_node: z})\n",
    "    histc, edges = np.histogram(gs, bins = 10)\n",
    "    ax.plot(np.linspace(-5,5,10), histc/float(r), label='p_g')\n",
    "\n",
    "    # ylim, legend\n",
    "    ax.set_ylim(-1.1,1.1)\n",
    "    plt.legend()"
   ]
  },
  {
   "cell_type": "code",
   "execution_count": 20,
   "metadata": {
    "collapsed": false
   },
   "outputs": [
    {
     "data": {
      "text/plain": [
       "<matplotlib.text.Text at 0x11b015ad0>"
      ]
     },
     "execution_count": 20,
     "metadata": {},
     "output_type": "execute_result"
    },
    {
     "data": {
      "image/png": "[encoded data removed]",
      "text/plain": [
       "<matplotlib.figure.Figure at 0x119b22a10>"
      ]
     },
     "metadata": {},
     "output_type": "display_data"
    }
   ],
   "source": [
    "# initial conditions\n",
    "plot_fig()\n",
    "plt.title('Before Training')"
   ]
  },
  {
   "cell_type": "code",
   "execution_count": 21,
   "metadata": {
    "collapsed": false
   },
   "outputs": [
    {
     "name": "stdout",
     "output_type": "stream",
     "text": [
      "0.0\n",
      "0.1\n",
      "0.2\n",
      "0.3\n",
      "0.4\n",
      "0.5\n",
      "0.6\n",
      "0.7\n",
      "0.8\n",
      "0.9\n"
     ]
    }
   ],
   "source": [
    "k=20\n",
    "histd, histg= np.zeros(TRAIN_ITERS), np.zeros(TRAIN_ITERS)\n",
    "for i in range(TRAIN_ITERS):\n",
    "    for j in range(k):\n",
    "        x= np.random.normal(mu,sigma,M) # sampled m-batch from p_data\n",
    "#         x.sort()\n",
    "        z= 10*(np.random.random(M)-0.5)  # sample m-batch from noise prior\n",
    "        histd[i],_=sess.run([obj_d,opt_d], {x_node: np.reshape(x,(M,1)), z_node: np.reshape(z,(M,1))})\n",
    "    z= 10*(np.random.random(M)-0.5) # sample noise prior\n",
    "    histg[i],_=sess.run([obj_g,opt_g], {z_node: np.reshape(z,(M,1))}) # update generator\n",
    "    if i % (TRAIN_ITERS//10) == 0:\n",
    "        print(float(i)/float(TRAIN_ITERS))"
   ]
  },
  {
   "cell_type": "code",
   "execution_count": 22,
   "metadata": {
    "collapsed": false
   },
   "outputs": [
    {
     "data": {
      "text/plain": [
       "<matplotlib.legend.Legend at 0x11adf3b10>"
      ]
     },
     "execution_count": 22,
     "metadata": {},
     "output_type": "execute_result"
    },
    {
     "data": {
      "image/png": "[encoded data removed]",
      "text/plain": [
       "<matplotlib.figure.Figure at 0x1198eaed0>"
      ]
     },
     "metadata": {},
     "output_type": "display_data"
    }
   ],
   "source": [
    "plt.plot(range(TRAIN_ITERS),histd, label='obj_d')\n",
    "plt.plot(range(TRAIN_ITERS), 1-histg, label='obj_g')\n",
    "plt.legend()"
   ]
  },
  {
   "cell_type": "code",
   "execution_count": 23,
   "metadata": {
    "collapsed": false
   },
   "outputs": [
    {
     "data": {
      "image/png": "[encoded data removed]",
      "text/plain": [
       "<matplotlib.figure.Figure at 0x11afcd110>"
      ]
     },
     "metadata": {},
     "output_type": "display_data"
    }
   ],
   "source": [
    "plot_fig()"
   ]
  },
  {
   "cell_type": "code",
   "execution_count": 24,
   "metadata": {
    "collapsed": true
   },
   "outputs": [],
   "source": [
    "sess.close()"
   ]
  },
  {
   "cell_type": "code",
   "execution_count": null,
   "metadata": {
    "collapsed": true
   },
   "outputs": [],
   "source": []
  },
  {
   "cell_type": "code",
   "execution_count": null,
   "metadata": {
    "collapsed": true
   },
   "outputs": [],
   "source": []
  }
 ],
 "metadata": {
  "kernelspec": {
   "display_name": "Python 2",
   "language": "python",
   "name": "python2"
  },
  "language_info": {
   "codemirror_mode": {
    "name": "ipython",
    "version": 2
   },
   "file_extension": ".py",
   "mimetype": "text/x-python",
   "name": "python",
   "nbconvert_exporter": "python",
   "pygments_lexer": "ipython2",
   "version": "2.7.9"
  }
 },
 "nbformat": 4,
 "nbformat_minor": 0
}
